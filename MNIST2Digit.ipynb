{
  "nbformat": 4,
  "nbformat_minor": 0,
  "metadata": {
    "colab": {
      "name": "MNIST2Digit.ipynb",
      "version": "0.3.2",
      "provenance": [],
      "include_colab_link": true
    },
    "kernelspec": {
      "name": "python3",
      "display_name": "Python 3"
    },
    "accelerator": "GPU"
  },
  "cells": [
    {
      "cell_type": "markdown",
      "metadata": {
        "id": "view-in-github",
        "colab_type": "text"
      },
      "source": [
        "<a href=\"https://colab.research.google.com/github/ams015/Two-Digit-MNIST/blob/master/MNIST2Digit.ipynb\" target=\"_parent\"><img src=\"https://colab.research.google.com/assets/colab-badge.svg\" alt=\"Open In Colab\"/></a>"
      ]
    },
    {
      "metadata": {
        "id": "rlegEqExEJZp",
        "colab_type": "code",
        "colab": {
          "base_uri": "https://localhost:8080/",
          "height": 54
        },
        "outputId": "8197a4f3-a24a-4abe-cdd2-8a03fde97ad6"
      },
      "cell_type": "code",
      "source": [
        "import tensorflow as tf\n",
        "import numpy as np\n",
        "\n",
        "import matplotlib.pyplot as plt\n",
        "mnist = tf.keras.datasets.mnist\n",
        "\n",
        "(x_train, y_train),(x_test, y_test) = mnist.load_data()"
      ],
      "execution_count": 2,
      "outputs": [
        {
          "output_type": "stream",
          "text": [
            "Downloading data from https://storage.googleapis.com/tensorflow/tf-keras-datasets/mnist.npz\n",
            "11493376/11490434 [==============================] - 0s 0us/step\n"
          ],
          "name": "stdout"
        }
      ]
    },
    {
      "metadata": {
        "id": "Rr8fJyhjET9x",
        "colab_type": "code",
        "colab": {}
      },
      "cell_type": "code",
      "source": [
        "def concatXY1(x,y,length):\n",
        "  idx1 = np.random.permutation(length)\n",
        "  x1,y1=x_train[idx1],y_train[idx1]\n",
        "  idx2= np.random.permutation(length)\n",
        "  x2,y2=x_train[idx2],y_train[idx2]\n",
        "  \n",
        "  x=np.concatenate((x1,x2),axis=2)\n",
        "  y=y.copy()\n",
        "  for i in range(0,length):\n",
        "    y[i]=int(str(y1[i])+str(y2[i]))\n",
        "  return[x,y]\n",
        "def concatXY2(x1,x2,y1,y2):\n",
        "  x=np.concatenate((x1,x2))\n",
        "  y=np.concatenate((y1,y2))\n",
        "   \n",
        "  return [x,y]\n",
        "def getcounts(y,length):\n",
        "\n",
        "  yl=list(y)\n",
        "  counts=[]\n",
        "  for i in range(0,length):\n",
        "    counts.append(yl.count(i))\n",
        "  print(counts)\n",
        " \n",
        "\n",
        "\n"
      ],
      "execution_count": 0,
      "outputs": []
    },
    {
      "metadata": {
        "id": "fbKCcqUZJ-Gh",
        "colab_type": "code",
        "colab": {}
      },
      "cell_type": "code",
      "source": [
        "x1,y1=concatXY1(x_train,y_train,60000)\n",
        "x2,y2=concatXY1(x_train,y_train,60000)\n",
        "x_tr,y_tr=concatXY2(x1,x2,y1,y2)"
      ],
      "execution_count": 0,
      "outputs": []
    },
    {
      "metadata": {
        "id": "dbPsVWAcEWV1",
        "colab_type": "code",
        "colab": {
          "base_uri": "https://localhost:8080/",
          "height": 35
        },
        "outputId": "cf20a388-277a-45d8-b190-7c347f7fc7cc"
      },
      "cell_type": "code",
      "source": [
        "print (y_tr.shape)"
      ],
      "execution_count": 6,
      "outputs": [
        {
          "output_type": "stream",
          "text": [
            "(120000,)\n"
          ],
          "name": "stdout"
        }
      ]
    },
    {
      "metadata": {
        "id": "l5uG5TyfKDrN",
        "colab_type": "code",
        "colab": {}
      },
      "cell_type": "code",
      "source": [
        "x_te,y_te=concatXY1(x_test,y_test,10000)"
      ],
      "execution_count": 0,
      "outputs": []
    },
    {
      "metadata": {
        "id": "T703H0CdKMz7",
        "colab_type": "code",
        "colab": {}
      },
      "cell_type": "code",
      "source": [
        "x_tr =x_tr / 255.0\n",
        "x_te =x_te / 255.0\n"
      ],
      "execution_count": 0,
      "outputs": []
    },
    {
      "metadata": {
        "id": "bIHD53J9KO3C",
        "colab_type": "code",
        "colab": {
          "base_uri": "https://localhost:8080/",
          "height": 91
        },
        "outputId": "4a771d0b-fa23-4324-d152-7e3e6c6ae033"
      },
      "cell_type": "code",
      "source": [
        "print (x_tr.shape)\n",
        "print (y_tr.shape)\n",
        "print (x_te.shape)\n",
        "print (y_te.shape)"
      ],
      "execution_count": 9,
      "outputs": [
        {
          "output_type": "stream",
          "text": [
            "(120000, 28, 56)\n",
            "(120000,)\n",
            "(10000, 28, 56)\n",
            "(10000,)\n"
          ],
          "name": "stdout"
        }
      ]
    },
    {
      "metadata": {
        "id": "nBVDFuX_KZzX",
        "colab_type": "code",
        "colab": {
          "base_uri": "https://localhost:8080/",
          "height": 3729
        },
        "outputId": "8153d2e9-60bf-4c3e-b5d2-4da9a5437ce0"
      },
      "cell_type": "code",
      "source": [
        "\n",
        "\n",
        "model = tf.keras.models.Sequential([\n",
        "#    tf.keras.layers.InputLayer( input_shape=(28,56)),\n",
        "  tf.keras.layers.Flatten(),\n",
        "  tf.keras.layers.Dense(512, activation=tf.nn.relu),\n",
        "  tf.keras.layers.Dropout(0.2),\n",
        "    \n",
        "  tf.keras.layers.Dense(128, activation=tf.nn.relu),\n",
        "  tf.keras.layers.Dense(100, activation=tf.nn.softmax)\n",
        "])\n",
        "model.compile(optimizer='adam',\n",
        "              loss='sparse_categorical_crossentropy',\n",
        "              metrics=['accuracy'])\n",
        "\n",
        "model.fit(x_tr, y_tr, epochs=100,batch_size=512)\n"
      ],
      "execution_count": 12,
      "outputs": [
        {
          "output_type": "stream",
          "text": [
            "Epoch 1/100\n",
            "120000/120000 [==============================] - 3s 22us/step - loss: 1.2336 - acc: 0.6761\n",
            "Epoch 2/100\n",
            "120000/120000 [==============================] - 2s 20us/step - loss: 0.5282 - acc: 0.8501\n",
            "Epoch 3/100\n",
            "120000/120000 [==============================] - 2s 20us/step - loss: 0.3665 - acc: 0.8952\n",
            "Epoch 4/100\n",
            "120000/120000 [==============================] - 2s 20us/step - loss: 0.2679 - acc: 0.9229\n",
            "Epoch 5/100\n",
            "120000/120000 [==============================] - 2s 20us/step - loss: 0.2013 - acc: 0.9412\n",
            "Epoch 6/100\n",
            "120000/120000 [==============================] - 2s 20us/step - loss: 0.1521 - acc: 0.9563\n",
            "Epoch 7/100\n",
            "120000/120000 [==============================] - 2s 20us/step - loss: 0.1170 - acc: 0.9669\n",
            "Epoch 8/100\n",
            "120000/120000 [==============================] - 2s 20us/step - loss: 0.0897 - acc: 0.9745\n",
            "Epoch 9/100\n",
            "120000/120000 [==============================] - 2s 20us/step - loss: 0.0687 - acc: 0.9811\n",
            "Epoch 10/100\n",
            "120000/120000 [==============================] - 2s 20us/step - loss: 0.0518 - acc: 0.9864\n",
            "Epoch 11/100\n",
            "120000/120000 [==============================] - 2s 20us/step - loss: 0.0390 - acc: 0.9907\n",
            "Epoch 12/100\n",
            "120000/120000 [==============================] - 2s 20us/step - loss: 0.0289 - acc: 0.9938\n",
            "Epoch 13/100\n",
            "120000/120000 [==============================] - 2s 20us/step - loss: 0.0225 - acc: 0.9954\n",
            "Epoch 14/100\n",
            "120000/120000 [==============================] - 2s 20us/step - loss: 0.0181 - acc: 0.9966\n",
            "Epoch 15/100\n",
            "120000/120000 [==============================] - 2s 20us/step - loss: 0.0123 - acc: 0.9984\n",
            "Epoch 16/100\n",
            "120000/120000 [==============================] - 2s 20us/step - loss: 0.0100 - acc: 0.9988\n",
            "Epoch 17/100\n",
            "120000/120000 [==============================] - 2s 20us/step - loss: 0.0076 - acc: 0.9992\n",
            "Epoch 18/100\n",
            "120000/120000 [==============================] - 2s 20us/step - loss: 0.0044 - acc: 0.9999\n",
            "Epoch 19/100\n",
            "120000/120000 [==============================] - 2s 20us/step - loss: 0.0064 - acc: 0.9990\n",
            "Epoch 20/100\n",
            "120000/120000 [==============================] - 2s 20us/step - loss: 0.0428 - acc: 0.9852\n",
            "Epoch 21/100\n",
            "120000/120000 [==============================] - 2s 20us/step - loss: 0.0287 - acc: 0.9901\n",
            "Epoch 22/100\n",
            "120000/120000 [==============================] - 2s 20us/step - loss: 0.0161 - acc: 0.9952\n",
            "Epoch 23/100\n",
            "120000/120000 [==============================] - 2s 20us/step - loss: 0.0066 - acc: 0.9986\n",
            "Epoch 24/100\n",
            "120000/120000 [==============================] - 2s 20us/step - loss: 0.0021 - acc: 0.9998\n",
            "Epoch 25/100\n",
            "120000/120000 [==============================] - 2s 20us/step - loss: 7.5306e-04 - acc: 1.0000\n",
            "Epoch 26/100\n",
            "120000/120000 [==============================] - 2s 20us/step - loss: 4.6975e-04 - acc: 1.0000\n",
            "Epoch 27/100\n",
            "120000/120000 [==============================] - 2s 20us/step - loss: 3.8971e-04 - acc: 1.0000\n",
            "Epoch 28/100\n",
            "120000/120000 [==============================] - 2s 20us/step - loss: 3.4432e-04 - acc: 1.0000\n",
            "Epoch 29/100\n",
            "120000/120000 [==============================] - 2s 20us/step - loss: 3.0760e-04 - acc: 1.0000\n",
            "Epoch 30/100\n",
            "120000/120000 [==============================] - 2s 20us/step - loss: 2.7691e-04 - acc: 1.0000\n",
            "Epoch 31/100\n",
            "120000/120000 [==============================] - 2s 20us/step - loss: 2.5178e-04 - acc: 1.0000\n",
            "Epoch 32/100\n",
            "120000/120000 [==============================] - 2s 20us/step - loss: 2.2985e-04 - acc: 1.0000\n",
            "Epoch 33/100\n",
            "120000/120000 [==============================] - 2s 20us/step - loss: 2.0922e-04 - acc: 1.0000\n",
            "Epoch 34/100\n",
            "120000/120000 [==============================] - 2s 20us/step - loss: 1.9133e-04 - acc: 1.0000\n",
            "Epoch 35/100\n",
            "120000/120000 [==============================] - 2s 20us/step - loss: 1.7536e-04 - acc: 1.0000\n",
            "Epoch 36/100\n",
            "120000/120000 [==============================] - 2s 20us/step - loss: 1.5995e-04 - acc: 1.0000\n",
            "Epoch 37/100\n",
            "120000/120000 [==============================] - 2s 20us/step - loss: 1.4695e-04 - acc: 1.0000\n",
            "Epoch 38/100\n",
            "120000/120000 [==============================] - 2s 20us/step - loss: 1.3417e-04 - acc: 1.0000\n",
            "Epoch 39/100\n",
            "120000/120000 [==============================] - 2s 20us/step - loss: 1.2240e-04 - acc: 1.0000\n",
            "Epoch 40/100\n",
            "120000/120000 [==============================] - 2s 20us/step - loss: 1.1188e-04 - acc: 1.0000\n",
            "Epoch 41/100\n",
            "120000/120000 [==============================] - 2s 20us/step - loss: 1.0269e-04 - acc: 1.0000\n",
            "Epoch 42/100\n",
            "120000/120000 [==============================] - 2s 20us/step - loss: 9.3453e-05 - acc: 1.0000\n",
            "Epoch 43/100\n",
            "120000/120000 [==============================] - 2s 20us/step - loss: 8.5212e-05 - acc: 1.0000\n",
            "Epoch 44/100\n",
            "120000/120000 [==============================] - 2s 20us/step - loss: 7.8306e-05 - acc: 1.0000\n",
            "Epoch 45/100\n",
            "120000/120000 [==============================] - 2s 20us/step - loss: 7.1254e-05 - acc: 1.0000\n",
            "Epoch 46/100\n",
            "120000/120000 [==============================] - 2s 20us/step - loss: 6.4736e-05 - acc: 1.0000\n",
            "Epoch 47/100\n",
            "120000/120000 [==============================] - 2s 20us/step - loss: 5.9020e-05 - acc: 1.0000\n",
            "Epoch 48/100\n",
            "120000/120000 [==============================] - 2s 20us/step - loss: 5.3848e-05 - acc: 1.0000\n",
            "Epoch 49/100\n",
            "120000/120000 [==============================] - 2s 20us/step - loss: 4.9198e-05 - acc: 1.0000\n",
            "Epoch 50/100\n",
            "120000/120000 [==============================] - 2s 20us/step - loss: 4.5041e-05 - acc: 1.0000\n",
            "Epoch 51/100\n",
            "120000/120000 [==============================] - 2s 20us/step - loss: 4.1091e-05 - acc: 1.0000\n",
            "Epoch 52/100\n",
            "120000/120000 [==============================] - 2s 20us/step - loss: 3.7583e-05 - acc: 1.0000\n",
            "Epoch 53/100\n",
            "120000/120000 [==============================] - 3s 21us/step - loss: 3.4867e-05 - acc: 1.0000\n",
            "Epoch 54/100\n",
            "120000/120000 [==============================] - 3s 21us/step - loss: 3.1988e-05 - acc: 1.0000\n",
            "Epoch 55/100\n",
            "120000/120000 [==============================] - 2s 20us/step - loss: 2.9547e-05 - acc: 1.0000\n",
            "Epoch 56/100\n",
            "120000/120000 [==============================] - 2s 20us/step - loss: 2.7334e-05 - acc: 1.0000\n",
            "Epoch 57/100\n",
            "120000/120000 [==============================] - 2s 20us/step - loss: 2.5313e-05 - acc: 1.0000\n",
            "Epoch 58/100\n",
            "120000/120000 [==============================] - 2s 20us/step - loss: 2.3601e-05 - acc: 1.0000\n",
            "Epoch 59/100\n",
            "120000/120000 [==============================] - 2s 20us/step - loss: 2.1954e-05 - acc: 1.0000\n",
            "Epoch 60/100\n",
            "120000/120000 [==============================] - 2s 20us/step - loss: 2.0562e-05 - acc: 1.0000\n",
            "Epoch 61/100\n",
            "120000/120000 [==============================] - 2s 20us/step - loss: 1.9288e-05 - acc: 1.0000\n",
            "Epoch 62/100\n",
            "120000/120000 [==============================] - 2s 20us/step - loss: 1.8205e-05 - acc: 1.0000\n",
            "Epoch 63/100\n",
            "120000/120000 [==============================] - 2s 20us/step - loss: 1.7244e-05 - acc: 1.0000\n",
            "Epoch 64/100\n",
            "120000/120000 [==============================] - 2s 20us/step - loss: 1.6426e-05 - acc: 1.0000\n",
            "Epoch 65/100\n",
            "120000/120000 [==============================] - 2s 20us/step - loss: 1.5664e-05 - acc: 1.0000\n",
            "Epoch 66/100\n",
            "120000/120000 [==============================] - 2s 20us/step - loss: 1.4969e-05 - acc: 1.0000\n",
            "Epoch 67/100\n",
            "120000/120000 [==============================] - 2s 20us/step - loss: 1.4423e-05 - acc: 1.0000\n",
            "Epoch 68/100\n",
            "120000/120000 [==============================] - 2s 20us/step - loss: 1.3882e-05 - acc: 1.0000\n",
            "Epoch 69/100\n",
            "120000/120000 [==============================] - 2s 20us/step - loss: 1.3477e-05 - acc: 1.0000\n",
            "Epoch 70/100\n",
            "120000/120000 [==============================] - 2s 21us/step - loss: 1.3072e-05 - acc: 1.0000\n",
            "Epoch 71/100\n",
            "120000/120000 [==============================] - 2s 20us/step - loss: 1.2714e-05 - acc: 1.0000\n",
            "Epoch 72/100\n",
            "120000/120000 [==============================] - 2s 20us/step - loss: 1.2417e-05 - acc: 1.0000\n",
            "Epoch 73/100\n",
            "120000/120000 [==============================] - 2s 20us/step - loss: 1.2136e-05 - acc: 1.0000\n",
            "Epoch 74/100\n",
            "120000/120000 [==============================] - 2s 20us/step - loss: 1.1899e-05 - acc: 1.0000\n",
            "Epoch 75/100\n",
            "120000/120000 [==============================] - 2s 20us/step - loss: 1.1702e-05 - acc: 1.0000\n",
            "Epoch 76/100\n",
            "120000/120000 [==============================] - 2s 20us/step - loss: 1.1517e-05 - acc: 1.0000\n",
            "Epoch 77/100\n",
            "120000/120000 [==============================] - 2s 20us/step - loss: 1.1351e-05 - acc: 1.0000\n",
            "Epoch 78/100\n",
            "120000/120000 [==============================] - 2s 20us/step - loss: 1.1212e-05 - acc: 1.0000\n",
            "Epoch 79/100\n",
            "120000/120000 [==============================] - 2s 20us/step - loss: 1.1076e-05 - acc: 1.0000\n",
            "Epoch 80/100\n",
            "120000/120000 [==============================] - 2s 20us/step - loss: 1.0971e-05 - acc: 1.0000\n",
            "Epoch 81/100\n",
            "120000/120000 [==============================] - 2s 20us/step - loss: 1.0874e-05 - acc: 1.0000\n",
            "Epoch 82/100\n",
            "120000/120000 [==============================] - 2s 20us/step - loss: 1.0786e-05 - acc: 1.0000\n",
            "Epoch 83/100\n",
            "120000/120000 [==============================] - 2s 20us/step - loss: 1.0714e-05 - acc: 1.0000\n",
            "Epoch 84/100\n",
            "120000/120000 [==============================] - 2s 20us/step - loss: 1.0650e-05 - acc: 1.0000\n",
            "Epoch 85/100\n",
            "120000/120000 [==============================] - 2s 20us/step - loss: 1.0595e-05 - acc: 1.0000\n",
            "Epoch 86/100\n",
            "120000/120000 [==============================] - 2s 20us/step - loss: 1.0539e-05 - acc: 1.0000\n",
            "Epoch 87/100\n",
            "120000/120000 [==============================] - 2s 20us/step - loss: 1.0495e-05 - acc: 1.0000\n",
            "Epoch 88/100\n",
            "120000/120000 [==============================] - 2s 20us/step - loss: 1.0455e-05 - acc: 1.0000\n",
            "Epoch 89/100\n",
            "120000/120000 [==============================] - 2s 20us/step - loss: 1.0421e-05 - acc: 1.0000\n",
            "Epoch 90/100\n",
            "120000/120000 [==============================] - 2s 20us/step - loss: 1.0388e-05 - acc: 1.0000\n",
            "Epoch 91/100\n",
            "120000/120000 [==============================] - 2s 20us/step - loss: 1.0361e-05 - acc: 1.0000\n",
            "Epoch 92/100\n",
            "120000/120000 [==============================] - 2s 20us/step - loss: 1.0338e-05 - acc: 1.0000\n",
            "Epoch 93/100\n",
            "120000/120000 [==============================] - 2s 20us/step - loss: 1.0317e-05 - acc: 1.0000\n",
            "Epoch 94/100\n",
            "120000/120000 [==============================] - 2s 20us/step - loss: 1.0297e-05 - acc: 1.0000\n",
            "Epoch 95/100\n",
            "120000/120000 [==============================] - 2s 20us/step - loss: 1.0282e-05 - acc: 1.0000\n",
            "Epoch 96/100\n",
            "120000/120000 [==============================] - 2s 20us/step - loss: 1.0266e-05 - acc: 1.0000\n",
            "Epoch 97/100\n",
            "120000/120000 [==============================] - 2s 20us/step - loss: 1.0254e-05 - acc: 1.0000\n",
            "Epoch 98/100\n",
            "120000/120000 [==============================] - 2s 20us/step - loss: 1.0243e-05 - acc: 1.0000\n",
            "Epoch 99/100\n",
            "120000/120000 [==============================] - 2s 20us/step - loss: 1.0232e-05 - acc: 1.0000\n",
            "Epoch 100/100\n",
            "120000/120000 [==============================] - 2s 20us/step - loss: 1.0223e-05 - acc: 1.0000\n"
          ],
          "name": "stdout"
        },
        {
          "output_type": "execute_result",
          "data": {
            "text/plain": [
              "<tensorflow.python.keras.callbacks.History at 0x7f59f015f8d0>"
            ]
          },
          "metadata": {
            "tags": []
          },
          "execution_count": 12
        }
      ]
    },
    {
      "metadata": {
        "id": "p9NDEaPHMM4X",
        "colab_type": "code",
        "colab": {
          "base_uri": "https://localhost:8080/",
          "height": 54
        },
        "outputId": "ab48f051-bab1-4254-dcb1-372ec28bc060"
      },
      "cell_type": "code",
      "source": [
        "model.evaluate(x_te,y_te)"
      ],
      "execution_count": 13,
      "outputs": [
        {
          "output_type": "stream",
          "text": [
            "10000/10000 [==============================] - 1s 81us/step\n"
          ],
          "name": "stdout"
        },
        {
          "output_type": "execute_result",
          "data": {
            "text/plain": [
              "[0.13977898956150747, 0.978]"
            ]
          },
          "metadata": {
            "tags": []
          },
          "execution_count": 13
        }
      ]
    }
  ]
}